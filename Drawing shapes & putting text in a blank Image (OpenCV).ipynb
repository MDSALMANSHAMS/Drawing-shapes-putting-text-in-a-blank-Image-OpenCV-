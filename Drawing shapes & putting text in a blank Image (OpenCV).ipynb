{
 "cells": [
  {
   "cell_type": "markdown",
   "id": "46275f72",
   "metadata": {},
   "source": [
    "# Drawing shapes & putting text in a blank Image (OpenCV)"
   ]
  },
  {
   "cell_type": "code",
   "execution_count": 63,
   "id": "6c568408",
   "metadata": {},
   "outputs": [],
   "source": [
    "import cv2 as cv\n",
    "import numpy as np"
   ]
  },
  {
   "cell_type": "code",
   "execution_count": 64,
   "id": "2e66549f",
   "metadata": {},
   "outputs": [
    {
     "data": {
      "text/plain": [
       "-1"
      ]
     },
     "execution_count": 64,
     "metadata": {},
     "output_type": "execute_result"
    }
   ],
   "source": [
    "blank=np.zeros((500,500,3),dtype='uint8')\n",
    "img=cv.imshow('Blank',blank)\n",
    "cv.waitKey(0)"
   ]
  },
  {
   "cell_type": "markdown",
   "id": "66d260dc",
   "metadata": {},
   "source": [
    "## colouring"
   ]
  },
  {
   "cell_type": "code",
   "execution_count": 65,
   "id": "4c4b837e",
   "metadata": {},
   "outputs": [
    {
     "data": {
      "text/plain": [
       "-1"
      ]
     },
     "execution_count": 65,
     "metadata": {},
     "output_type": "execute_result"
    }
   ],
   "source": [
    "blank[:]=0,255,0            #bgr\n",
    "cv.imshow('green',blank)\n",
    "cv.waitKey(0)"
   ]
  },
  {
   "cell_type": "code",
   "execution_count": 66,
   "id": "d2d04d34",
   "metadata": {},
   "outputs": [
    {
     "data": {
      "text/plain": [
       "-1"
      ]
     },
     "execution_count": 66,
     "metadata": {},
     "output_type": "execute_result"
    }
   ],
   "source": [
    "blank[200:300,300:400]=0,0,255            #bgr\n",
    "cv.imshow('red&green',blank)\n",
    "cv.waitKey(0)"
   ]
  },
  {
   "cell_type": "code",
   "execution_count": 67,
   "id": "12780b0c",
   "metadata": {},
   "outputs": [
    {
     "data": {
      "text/plain": [
       "-1"
      ]
     },
     "execution_count": 67,
     "metadata": {},
     "output_type": "execute_result"
    }
   ],
   "source": [
    "#rectangle\n",
    "cv.rectangle(blank,(0,0),(200,100),(255,0,0),thickness=2)\n",
    "cv.imshow('rectanle',blank)\n",
    "cv.waitKey(0)"
   ]
  },
  {
   "cell_type": "code",
   "execution_count": 68,
   "id": "f76910d6",
   "metadata": {},
   "outputs": [
    {
     "data": {
      "text/plain": [
       "-1"
      ]
     },
     "execution_count": 68,
     "metadata": {},
     "output_type": "execute_result"
    }
   ],
   "source": [
    "#circle\n",
    "cv.circle(blank,(150,300),100,(255,255,255),thickness=-1)\n",
    "cv.imshow('circle',blank)\n",
    "cv.waitKey(0)"
   ]
  },
  {
   "cell_type": "code",
   "execution_count": 69,
   "id": "e1fff36c",
   "metadata": {},
   "outputs": [
    {
     "data": {
      "text/plain": [
       "-1"
      ]
     },
     "execution_count": 69,
     "metadata": {},
     "output_type": "execute_result"
    }
   ],
   "source": [
    "#line\n",
    "cv.line(blank,(270,0),(270,500),(0,0,0),thickness=2)\n",
    "cv.imshow('line',blank)\n",
    "cv.waitKey(0)"
   ]
  },
  {
   "cell_type": "code",
   "execution_count": null,
   "id": "4c41256a",
   "metadata": {},
   "outputs": [],
   "source": [
    "#text\n",
    "cv.putText(blank,'Love',(315,100),cv.FONT_HERSHEY_TRIPLEX,2.0,(0,0,255),2)\n",
    "cv.imshow('TEXT',blank)\n",
    "cv.waitKey(0)"
   ]
  },
  {
   "cell_type": "code",
   "execution_count": null,
   "id": "5c16ffb7",
   "metadata": {},
   "outputs": [],
   "source": []
  }
 ],
 "metadata": {
  "kernelspec": {
   "display_name": "Python 3 (ipykernel)",
   "language": "python",
   "name": "python3"
  },
  "language_info": {
   "codemirror_mode": {
    "name": "ipython",
    "version": 3
   },
   "file_extension": ".py",
   "mimetype": "text/x-python",
   "name": "python",
   "nbconvert_exporter": "python",
   "pygments_lexer": "ipython3",
   "version": "3.9.7"
  }
 },
 "nbformat": 4,
 "nbformat_minor": 5
}
